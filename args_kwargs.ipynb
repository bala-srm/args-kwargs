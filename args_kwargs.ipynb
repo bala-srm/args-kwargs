{
 "cells": [
  {
   "cell_type": "markdown",
   "id": "32dd9e52",
   "metadata": {},
   "source": [
    "# *args"
   ]
  },
  {
   "cell_type": "code",
   "execution_count": 13,
   "id": "63630749",
   "metadata": {
    "ExecuteTime": {
     "end_time": "2021-06-14T06:59:55.089856Z",
     "start_time": "2021-06-14T06:59:55.077858Z"
    }
   },
   "outputs": [],
   "source": [
    "def add2nums(x,y): # user defined function to add 2 numbers\n",
    "    return x+y"
   ]
  },
  {
   "cell_type": "code",
   "execution_count": 14,
   "id": "7f7196ba",
   "metadata": {
    "ExecuteTime": {
     "end_time": "2021-06-14T06:59:56.163523Z",
     "start_time": "2021-06-14T06:59:56.150559Z"
    }
   },
   "outputs": [
    {
     "data": {
      "text/plain": [
       "22"
      ]
     },
     "execution_count": 14,
     "metadata": {},
     "output_type": "execute_result"
    }
   ],
   "source": [
    "add2nums(10,12)"
   ]
  },
  {
   "cell_type": "code",
   "execution_count": 15,
   "id": "fd922694",
   "metadata": {
    "ExecuteTime": {
     "end_time": "2021-06-14T06:59:57.899555Z",
     "start_time": "2021-06-14T06:59:57.876615Z"
    }
   },
   "outputs": [
    {
     "ename": "TypeError",
     "evalue": "add2nums() takes 2 positional arguments but 3 were given",
     "output_type": "error",
     "traceback": [
      "\u001b[1;31m---------------------------------------------------------------------------\u001b[0m",
      "\u001b[1;31mTypeError\u001b[0m                                 Traceback (most recent call last)",
      "\u001b[1;32m<ipython-input-15-97ca409a928b>\u001b[0m in \u001b[0;36m<module>\u001b[1;34m\u001b[0m\n\u001b[1;32m----> 1\u001b[1;33m \u001b[0madd2nums\u001b[0m\u001b[1;33m(\u001b[0m\u001b[1;36m12\u001b[0m\u001b[1;33m,\u001b[0m\u001b[1;36m3\u001b[0m\u001b[1;33m,\u001b[0m\u001b[1;36m55\u001b[0m\u001b[1;33m)\u001b[0m \u001b[1;31m# doesnt work for adding 3 numbers. Will have to write a separate function to do it..\u001b[0m\u001b[1;33m\u001b[0m\u001b[1;33m\u001b[0m\u001b[0m\n\u001b[0m\u001b[0;32m      2\u001b[0m \u001b[1;31m#another new one to add 4 numbers and so on\u001b[0m\u001b[1;33m\u001b[0m\u001b[1;33m\u001b[0m\u001b[1;33m\u001b[0m\u001b[0m\n",
      "\u001b[1;31mTypeError\u001b[0m: add2nums() takes 2 positional arguments but 3 were given"
     ]
    }
   ],
   "source": [
    "add2nums(12,3,55) # doesnt work for adding 3 numbers. Will have to write a separate function to do it.. \n",
    "#another new one to add 4 numbers and so on"
   ]
  },
  {
   "cell_type": "code",
   "execution_count": 16,
   "id": "646706f7",
   "metadata": {
    "ExecuteTime": {
     "end_time": "2021-06-14T07:00:14.609793Z",
     "start_time": "2021-06-14T07:00:14.597829Z"
    }
   },
   "outputs": [],
   "source": [
    "# if we are not sure how many arguments are going to be passed to a function within the function we can unpack the *args as a list and process it\n",
    "\n",
    "def add_it(*nums):\n",
    "    nums = list(nums)\n",
    "    return sum(nums)"
   ]
  },
  {
   "cell_type": "code",
   "execution_count": 17,
   "id": "5c64c372",
   "metadata": {
    "ExecuteTime": {
     "end_time": "2021-06-14T07:00:15.200607Z",
     "start_time": "2021-06-14T07:00:15.182655Z"
    }
   },
   "outputs": [
    {
     "data": {
      "text/plain": [
       "7"
      ]
     },
     "execution_count": 17,
     "metadata": {},
     "output_type": "execute_result"
    }
   ],
   "source": [
    "add_it(3,4) # add 2 numbers with the function"
   ]
  },
  {
   "cell_type": "code",
   "execution_count": 18,
   "id": "12363059",
   "metadata": {
    "ExecuteTime": {
     "end_time": "2021-06-14T07:00:15.869481Z",
     "start_time": "2021-06-14T07:00:15.854522Z"
    }
   },
   "outputs": [
    {
     "data": {
      "text/plain": [
       "15"
      ]
     },
     "execution_count": 18,
     "metadata": {},
     "output_type": "execute_result"
    }
   ],
   "source": [
    "add_it(4,5,6) # add 3 numbers with the same function !!"
   ]
  },
  {
   "cell_type": "code",
   "execution_count": 19,
   "id": "a1af2ad7",
   "metadata": {
    "ExecuteTime": {
     "end_time": "2021-06-14T07:00:16.644544Z",
     "start_time": "2021-06-14T07:00:16.633576Z"
    }
   },
   "outputs": [
    {
     "data": {
      "text/plain": [
       "136"
      ]
     },
     "execution_count": 19,
     "metadata": {},
     "output_type": "execute_result"
    }
   ],
   "source": [
    "add_it(10,12,99,15) # add 4 numbers..you get it right ?!"
   ]
  },
  {
   "cell_type": "markdown",
   "id": "f07340c7",
   "metadata": {},
   "source": [
    "# *kwargs"
   ]
  },
  {
   "cell_type": "code",
   "execution_count": 4,
   "id": "9d7f9e79",
   "metadata": {
    "ExecuteTime": {
     "end_time": "2021-06-14T06:19:52.263773Z",
     "start_time": "2021-06-14T06:19:52.251771Z"
    }
   },
   "outputs": [
    {
     "data": {
      "text/plain": [
       "55"
      ]
     },
     "execution_count": 4,
     "metadata": {},
     "output_type": "execute_result"
    }
   ],
   "source": [
    "add2nums(x=30,y=25) # passing the arguments explicity by the argument name (keyword arguments)"
   ]
  },
  {
   "cell_type": "code",
   "execution_count": 5,
   "id": "63dd7b15",
   "metadata": {
    "ExecuteTime": {
     "end_time": "2021-06-14T06:33:28.371988Z",
     "start_time": "2021-06-14T06:33:28.356032Z"
    }
   },
   "outputs": [],
   "source": [
    "num_dict = dict(x=45, y=100) # we can pass the keyword arguments (x & y) as a dictionary prefixed by **"
   ]
  },
  {
   "cell_type": "code",
   "execution_count": 6,
   "id": "1c507b06",
   "metadata": {
    "ExecuteTime": {
     "end_time": "2021-06-14T06:33:51.956196Z",
     "start_time": "2021-06-14T06:33:51.949251Z"
    }
   },
   "outputs": [
    {
     "data": {
      "text/plain": [
       "145"
      ]
     },
     "execution_count": 6,
     "metadata": {},
     "output_type": "execute_result"
    }
   ],
   "source": [
    "add2nums(**num_dict)"
   ]
  },
  {
   "cell_type": "code",
   "execution_count": null,
   "id": "bb846b56",
   "metadata": {},
   "outputs": [],
   "source": []
  }
 ],
 "metadata": {
  "kernelspec": {
   "display_name": "Python 3",
   "language": "python",
   "name": "python3"
  },
  "language_info": {
   "codemirror_mode": {
    "name": "ipython",
    "version": 3
   },
   "file_extension": ".py",
   "mimetype": "text/x-python",
   "name": "python",
   "nbconvert_exporter": "python",
   "pygments_lexer": "ipython3",
   "version": "3.8.8"
  },
  "toc": {
   "base_numbering": 1,
   "nav_menu": {},
   "number_sections": true,
   "sideBar": true,
   "skip_h1_title": true,
   "title_cell": "Table of Contents",
   "title_sidebar": "Contents",
   "toc_cell": false,
   "toc_position": {},
   "toc_section_display": true,
   "toc_window_display": false
  }
 },
 "nbformat": 4,
 "nbformat_minor": 5
}
